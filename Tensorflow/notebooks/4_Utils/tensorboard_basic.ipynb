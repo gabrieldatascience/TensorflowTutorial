{
 "cells": [
  {
   "cell_type": "markdown",
   "metadata": {
    "collapsed": true,
    "run_control": {
     "frozen": false,
     "read_only": false
    }
   },
   "source": [
    "# Tensorboard Basics\n",
    "\n",
    "Visualización de gráficos y pérdidas mediante Tensorboard. Este ejemplo utiliza la base de datos de dígitos manuscritos del MNIST (http://yann.lecun.com/exdb/mnist/)."
   ]
  },
  {
   "cell_type": "code",
   "execution_count": 1,
   "metadata": {
    "run_control": {
     "frozen": false,
     "read_only": false
    }
   },
   "outputs": [
    {
     "name": "stdout",
     "output_type": "stream",
     "text": [
      "Extracting /tmp/data/train-images-idx3-ubyte.gz\n",
      "Extracting /tmp/data/train-labels-idx1-ubyte.gz\n",
      "Extracting /tmp/data/t10k-images-idx3-ubyte.gz\n",
      "Extracting /tmp/data/t10k-labels-idx1-ubyte.gz\n"
     ]
    }
   ],
   "source": [
    "import tensorflow as tf\n",
    "\n",
    "# Importar datos MINST\n",
    "\n",
    "from tensorflow.examples.tutorials.mnist import input_data\n",
    "mnist = input_data.read_data_sets(\"/tmp/data/\", one_hot=True)"
   ]
  },
  {
   "cell_type": "code",
   "execution_count": 2,
   "metadata": {
    "run_control": {
     "frozen": false,
     "read_only": false
    }
   },
   "outputs": [],
   "source": [
    "# Parametros\n",
    "learning_rate = 0.01\n",
    "training_epochs = 25\n",
    "batch_size = 100\n",
    "display_epoch = 1\n",
    "logs_path = '../../logs/'\n",
    "\n",
    "# tf Entrada de gráficos\n",
    "# mnist data image of shape 28*28=784\n",
    "x = tf.placeholder(tf.float32, [None, 784], name='InputData')\n",
    "# Reconocimiento de 0-9 dígitos => 10 clases\n",
    "y = tf.placeholder(tf.float32, [None, 10], name='LabelData')\n",
    "\n",
    "# Establecer pesos del modelo\n",
    "W = tf.Variable(tf.zeros([784, 10]), name='Weights')\n",
    "b = tf.Variable(tf.zeros([10]), name='Bias')"
   ]
  },
  {
   "cell_type": "code",
   "execution_count": 3,
   "metadata": {
    "run_control": {
     "frozen": false,
     "read_only": false
    }
   },
   "outputs": [],
   "source": [
    "# Construir el modelo y encapsular todas las operaciones en alcances, haciendo\n",
    "# La visualización gráfica de la tensorboard es más conveniente\n",
    "with tf.name_scope('Model'):\n",
    "    # Modelo\n",
    "    pred = tf.nn.softmax(tf.matmul(x, W) + b) # Softmax\n",
    "with tf.name_scope('Loss'):\n",
    "    # Minimizar los errores mediante la entropía cruzada\n",
    "    cost = tf.reduce_mean(-tf.reduce_sum(y * tf.log(pred), reduction_indices=1))\n",
    "with tf.name_scope('SGD'):\n",
    "    # Descenso en pendiente\n",
    "    optimizer = tf.train.GradientDescentOptimizer(learning_rate).minimize(cost)\n",
    "with tf.name_scope('Accuracy'):\n",
    "    # Precisión\n",
    "    acc = tf.equal(tf.argmax(pred, 1), tf.argmax(y, 1))\n",
    "    acc = tf.reduce_mean(tf.cast(acc, tf.float32))\n",
    "\n",
    "# Inicializando las variables\n",
    "init = tf.global_variables_initializer()\n",
    "\n",
    "# Crear un resumen para monitorear el tensor de costos\n",
    "tf.summary.scalar(\"loss\", cost)\n",
    "# Crear un resumen para monitorear el tensor de precisión\n",
    "tf.summary.scalar(\"accuracy\", acc)\n",
    "# Fusionar todos los resúmenes en una sola operación\n",
    "merged_summary_op = tf.summary.merge_all()"
   ]
  },
  {
   "cell_type": "code",
   "execution_count": 4,
   "metadata": {
    "run_control": {
     "frozen": false,
     "read_only": false
    }
   },
   "outputs": [
    {
     "name": "stdout",
     "output_type": "stream",
     "text": [
      "('Epoch:', '0001', 'cost=', '1.183388450')\n",
      "('Epoch:', '0002', 'cost=', '0.665133665')\n",
      "('Epoch:', '0003', 'cost=', '0.552735593')\n",
      "('Epoch:', '0004', 'cost=', '0.498670717')\n",
      "('Epoch:', '0005', 'cost=', '0.465501758')\n",
      "('Epoch:', '0006', 'cost=', '0.442556846')\n",
      "('Epoch:', '0007', 'cost=', '0.425509037')\n",
      "('Epoch:', '0008', 'cost=', '0.412173652')\n",
      "('Epoch:', '0009', 'cost=', '0.401385705')\n",
      "('Epoch:', '0010', 'cost=', '0.392384847')\n",
      "('Epoch:', '0011', 'cost=', '0.384692703')\n",
      "('Epoch:', '0012', 'cost=', '0.378199260')\n",
      "('Epoch:', '0013', 'cost=', '0.372414338')\n",
      "('Epoch:', '0014', 'cost=', '0.367254242')\n",
      "('Epoch:', '0015', 'cost=', '0.362731107')\n",
      "('Epoch:', '0016', 'cost=', '0.358590668')\n",
      "('Epoch:', '0017', 'cost=', '0.354855068')\n",
      "('Epoch:', '0018', 'cost=', '0.351434447')\n",
      "('Epoch:', '0019', 'cost=', '0.348324607')\n",
      "('Epoch:', '0020', 'cost=', '0.345396065')\n",
      "('Epoch:', '0021', 'cost=', '0.342742144')\n",
      "('Epoch:', '0022', 'cost=', '0.340254615')\n",
      "('Epoch:', '0023', 'cost=', '0.337927042')\n",
      "('Epoch:', '0024', 'cost=', '0.335745447')\n",
      "('Epoch:', '0025', 'cost=', '0.333679944')\n",
      "Optimization Finished!\n",
      "('Accuracy:', 0.9136)\n",
      "Run the command line:\n",
      "--> tensorboard --logdir=/tmp/tensorflow_logs \n",
      "Then open http://0.0.0.0:6006/ into your web browser\n"
     ]
    }
   ],
   "source": [
    "# Iniciar Entrenamiento\n",
    "with tf.Session() as sess:\n",
    "    sess.run(init)\n",
    "\n",
    "    # op para escribir registros en la Tensorboard\n",
    "    summary_writer = tf.summary.FileWriter(logs_path, graph=tf.get_default_graph())\n",
    "\n",
    "    # Circulo de entrenamiento\n",
    "    for epoch in range(training_epochs):\n",
    "        avg_cost = 0.\n",
    "        total_batch = int(mnist.train.num_examples / batch_size)\n",
    "        # Circuito sobre todos los lotes\n",
    "        for i in range(total_batch):\n",
    "            batch_xs, batch_ys = mnist.train.next_batch(batch_size)\n",
    "            # Ejecutar optimización op (backprop), cost op (para obtener valor de pérdida)\n",
    "            # y nodos de resumen\n",
    "            _, c, summary = sess.run([optimizer, cost, merged_summary_op],\n",
    "                                     feed_dict={x: batch_xs, y: batch_ys})\n",
    "            # Escribe registros en cada iteración\n",
    "            summary_writer.add_summary(summary, epoch * total_batch + i)\n",
    "            # Calcula la pérdida promedio\n",
    "            avg_cost += c / total_batch\n",
    "        # Mostrar registros por paso de época\n",
    "        if (epoch+1) % display_epoch == 0:\n",
    "            print((\"Epoch:\", '%04d' % (epoch+1), \"cost=\", \"{:.9f}\".format(avg_cost)))\n",
    "\n",
    "    print(\"Optimization Finished!\")\n",
    "\n",
    "    # Modelo de prueba\n",
    "    # Calcular la precisión\n",
    "    print((\"Accuracy:\", acc.eval({x: mnist.test.images, y: mnist.test.labels})))\n",
    "\n",
    "    print(\"Run the command line:\\n\" \\\n",
    "          \"--> tensorboard --logdir=/tmp/tensorflow_logs \" \\\n",
    "          \"\\nThen open http://0.0.0.0:6006/ into your web browser\")"
   ]
  },
  {
   "cell_type": "markdown",
   "metadata": {
    "run_control": {
     "frozen": false,
     "read_only": false
    }
   },
   "source": [
    "### Visualización de Pérdidas y Precisión\n",
    "\n",
    "<img src=\"../../resources/img/tensorboard_basic_1.png\"/>"
   ]
  },
  {
   "cell_type": "markdown",
   "metadata": {
    "run_control": {
     "frozen": false,
     "read_only": false
    }
   },
   "source": [
    "### Visualización de gráficos\n",
    "\n",
    "<img src=\"../../resources/img/tensorboard_basic_2.png\"/>"
   ]
  },
  {
   "cell_type": "code",
   "execution_count": null,
   "metadata": {},
   "outputs": [],
   "source": []
  }
 ],
 "metadata": {
  "kernelspec": {
   "display_name": "Python 3",
   "language": "python",
   "name": "python3"
  },
  "language_info": {
   "codemirror_mode": {
    "name": "ipython",
    "version": 3
   },
   "file_extension": ".py",
   "mimetype": "text/x-python",
   "name": "python",
   "nbconvert_exporter": "python",
   "pygments_lexer": "ipython3",
   "version": "3.7.4"
  },
  "toc": {
   "colors": {
    "hover_highlight": "#DAA520",
    "running_highlight": "#FF0000",
    "selected_highlight": "#FFD700"
   },
   "moveMenuLeft": true,
   "nav_menu": {
    "height": "83px",
    "width": "252px"
   },
   "navigate_menu": true,
   "number_sections": true,
   "sideBar": true,
   "threshold": 4,
   "toc_cell": false,
   "toc_section_display": "block",
   "toc_window_display": false
  },
  "varInspector": {
   "cols": {
    "lenName": 16,
    "lenType": 16,
    "lenVar": 40
   },
   "kernels_config": {
    "python": {
     "delete_cmd_postfix": "",
     "delete_cmd_prefix": "del ",
     "library": "var_list.py",
     "varRefreshCmd": "print(var_dic_list())"
    },
    "r": {
     "delete_cmd_postfix": ") ",
     "delete_cmd_prefix": "rm(",
     "library": "var_list.r",
     "varRefreshCmd": "cat(var_dic_list()) "
    }
   },
   "types_to_exclude": [
    "module",
    "function",
    "builtin_function_or_method",
    "instance",
    "_Feature"
   ],
   "window_display": false
  }
 },
 "nbformat": 4,
 "nbformat_minor": 1
}
