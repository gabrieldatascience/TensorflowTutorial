{
 "cells": [
  {
   "cell_type": "markdown",
   "metadata": {},
   "source": [
    "# Tensorboard Advanced\n",
    "\n",
    "Visualización avanzada mediante Tensorboard (pesos, gradiente,...). Este ejemplo utiliza la base de datos de dígitos manuscritos del MNIST.\n",
    "(http://yann.lecun.com/exdb/mnist/)."
   ]
  },
  {
   "cell_type": "code",
   "execution_count": null,
   "metadata": {},
   "outputs": [
    {
     "name": "stdout",
     "output_type": "stream",
     "text": [
      "Extracting /tmp/data/train-images-idx3-ubyte.gz\n",
      "Extracting /tmp/data/train-labels-idx1-ubyte.gz\n",
      "Extracting /tmp/data/t10k-images-idx3-ubyte.gz\n",
      "Extracting /tmp/data/t10k-labels-idx1-ubyte.gz\n"
     ]
    }
   ],
   "source": [
    "from __future__ import print_function\n",
    "\n",
    "import tensorflow as tf\n",
    "\n",
    "# Importar datos MNIST\n",
    "from tensorflow.examples.tutorials.mnist import input_data\n",
    "mnist = input_data.read_data_sets(\"/tmp/data/\", one_hot=True)"
   ]
  },
  {
   "cell_type": "code",
   "execution_count": null,
   "metadata": {
    "collapsed": true
   },
   "outputs": [],
   "source": [
    "# Parametros\n",
    "learning_rate = 0.01\n",
    "training_epochs = 25\n",
    "batch_size = 100\n",
    "display_step = 1\n",
    "logs_path = '/tmp/tensorflow_logs/example/'\n",
    "\n",
    "# Network Parametros\n",
    "n_hidden_1 = 256 # Número de características de la 1ª capa\n",
    "n_hidden_2 = 256 # Número de características de la 2ª capa\n",
    "n_input = 784 # MNIST entrada de datos (forma img: 28*28)\n",
    "n_classes = 10 # MNIST total de clases (0-9 dígitos)\n",
    "\n",
    "# tf Entrada de gráficos\n",
    "# datos mnist de imagen de la forma 28*28=784\n",
    "x = tf.placeholder(tf.float32, [None, 784], name='InputData')\n",
    "# Reconocimiento de 0-9 dígitos => 10 clases\n",
    "y = tf.placeholder(tf.float32, [None, 10], name='LabelData')"
   ]
  },
  {
   "cell_type": "code",
   "execution_count": null,
   "metadata": {
    "collapsed": true
   },
   "outputs": [],
   "source": [
    "# Crear modelo\n",
    "def multilayer_perceptron(x, weights, biases):\n",
    "    # Capa oculta con activación RELU\n",
    "    layer_1 = tf.add(tf.matmul(x, weights['w1']), biases['b1'])\n",
    "    layer_1 = tf.nn.relu(layer_1)\n",
    "    # Crear un resumen para visualizar la primera capa de activación de ReLU\n",
    "    tf.summary.histogram(\"relu1\", layer_1)\n",
    "    # Capa oculta con activación RELU\n",
    "    layer_2 = tf.add(tf.matmul(layer_1, weights['w2']), biases['b2'])\n",
    "    layer_2 = tf.nn.relu(layer_2)\n",
    "    # Crear otro resumen para visualizar la segunda capa de activación de ReLU\n",
    "    tf.summary.histogram(\"relu2\", layer_2)\n",
    "    # Capa de salida\n",
    "    out_layer = tf.add(tf.matmul(layer_2, weights['w3']), biases['b3'])\n",
    "    return out_layer\n",
    "\n",
    "# Almacenar capas de peso y sesgo\n",
    "weights = {\n",
    "    'w1': tf.Variable(tf.random_normal([n_input, n_hidden_1]), name='W1'),\n",
    "    'w2': tf.Variable(tf.random_normal([n_hidden_1, n_hidden_2]), name='W2'),\n",
    "    'w3': tf.Variable(tf.random_normal([n_hidden_2, n_classes]), name='W3')\n",
    "}\n",
    "biases = {\n",
    "    'b1': tf.Variable(tf.random_normal([n_hidden_1]), name='b1'),\n",
    "    'b2': tf.Variable(tf.random_normal([n_hidden_2]), name='b2'),\n",
    "    'b3': tf.Variable(tf.random_normal([n_classes]), name='b3')\n",
    "}"
   ]
  },
  {
   "cell_type": "code",
   "execution_count": null,
   "metadata": {
    "collapsed": true
   },
   "outputs": [],
   "source": [
    "# Encapsulando todas las operaciones en alcances, haciendo el gráfico de Tensorboard\n",
    "# Visualización más conveniente\n",
    "with tf.name_scope('Model'):\n",
    "    # Construir modelo\n",
    "    pred = multilayer_perceptron(x, weights, biases)\n",
    "\n",
    "with tf.name_scope('Loss'):\n",
    "    # Softmax Cross entropy (función de coste)\n",
    "    loss = tf.reduce_mean(tf.nn.softmax_cross_entropy_with_logits(logits=pred, labels=y))\n",
    "\n",
    "with tf.name_scope('SGD'):\n",
    "    # Descenso en pendiente\n",
    "    optimizer = tf.train.GradientDescentOptimizer(learning_rate)\n",
    "    # Op para calcular cada gradiente variable\n",
    "    grads = tf.gradients(loss, tf.trainable_variables())\n",
    "    grads = list(zip(grads, tf.trainable_variables()))\n",
    "    # Op para actualizar todas las variables según su gradiente\n",
    "    apply_grads = optimizer.apply_gradients(grads_and_vars=grads)\n",
    "\n",
    "with tf.name_scope('Accuracy'):\n",
    "    # Precisión\n",
    "    acc = tf.equal(tf.argmax(pred, 1), tf.argmax(y, 1))\n",
    "    acc = tf.reduce_mean(tf.cast(acc, tf.float32))"
   ]
  },
  {
   "cell_type": "code",
   "execution_count": null,
   "metadata": {},
   "outputs": [],
   "source": [
    "# Inicializar las variables (es decir, asignar su valor por defecto)\n",
    "init = tf.global_variables_initializer()\n",
    "\n",
    "# Crear un resumen para monitorear el tensor de costos\n",
    "tf.summary.scalar(\"loss\", loss)\n",
    "# Crear un resumen para monitorear el tensor de precisión\n",
    "tf.summary.scalar(\"accuracy\", acc)\n",
    "# Crear resúmenes para visualizar los pesos\n",
    "for var in tf.trainable_variables():\n",
    "    tf.summary.histogram(var.name, var)\n",
    "# Resumir todos los degradados\n",
    "for grad, var in grads:\n",
    "    tf.summary.histogram(var.name + '/gradient', grad)\n",
    "# Fusionar todos los resúmenes en una sola operación\n",
    "merged_summary_op = tf.summary.merge_all()"
   ]
  },
  {
   "cell_type": "code",
   "execution_count": null,
   "metadata": {},
   "outputs": [
    {
     "name": "stdout",
     "output_type": "stream",
     "text": [
      "Epoch: 0001 cost= 59.570364205\n",
      "Epoch: 0002 cost= 13.585465186\n",
      "Epoch: 0003 cost= 8.379069252\n",
      "Epoch: 0004 cost= 6.005265894\n",
      "Epoch: 0005 cost= 4.498054792\n",
      "Epoch: 0006 cost= 3.503682522\n",
      "Epoch: 0007 cost= 2.822272765\n",
      "Epoch: 0008 cost= 2.306899852\n",
      "Epoch: 0009 cost= 1.912765543\n",
      "Epoch: 0010 cost= 1.597006118\n",
      "Epoch: 0011 cost= 1.330172869\n",
      "Epoch: 0012 cost= 1.142490618\n",
      "Epoch: 0013 cost= 0.939443911\n",
      "Epoch: 0014 cost= 0.820920588\n",
      "Epoch: 0015 cost= 0.702543302\n",
      "Epoch: 0016 cost= 0.604815631\n",
      "Epoch: 0017 cost= 0.505682561\n",
      "Epoch: 0018 cost= 0.439700446\n",
      "Epoch: 0019 cost= 0.378268929\n",
      "Epoch: 0020 cost= 0.299557848\n",
      "Epoch: 0021 cost= 0.269859066\n",
      "Epoch: 0022 cost= 0.230899029\n",
      "Epoch: 0023 cost= 0.183722090\n",
      "Epoch: 0024 cost= 0.164173368\n",
      "Epoch: 0025 cost= 0.142141250\n",
      "Optimization Finished!\n",
      "Accuracy: 0.9336\n",
      "Run the command line:\n",
      "--> tensorboard --logdir=/tmp/tensorflow_logs \n",
      "Then open http://0.0.0.0:6006/ into your web browser\n"
     ]
    }
   ],
   "source": [
    "# Iniciar Entrenamiento\n",
    "with tf.Session() as sess:\n",
    "\n",
    "    # Ejecutar el inicializador\n",
    "    sess.run(init)\n",
    "\n",
    "    # op para escribir registros en la Tensorboard\n",
    "    summary_writer = tf.summary.FileWriter(logs_path,\n",
    "                                            graph=tf.get_default_graph())\n",
    "\n",
    "    # Ciclo de entrenamiento\n",
    "    for epoch in range(training_epochs):\n",
    "        avg_cost = 0.\n",
    "        total_batch = int(mnist.train.num_examples/batch_size)\n",
    "        # Circuito sobre todos los lotes\n",
    "        for i in range(total_batch):\n",
    "            batch_xs, batch_ys = mnist.train.next_batch(batch_size)\n",
    "            # Ejecutar optimización op (backprop), cost op (para obtener valor de pérdida)\n",
    "            # y nodos de resumen\n",
    "            _, c, summary = sess.run([apply_grads, loss, merged_summary_op],\n",
    "                                     feed_dict={x: batch_xs, y: batch_ys})\n",
    "            # Escribe registros en cada iteración\n",
    "            summary_writer.add_summary(summary, epoch * total_batch + i)\n",
    "            # Calcula la pérdida promedio\n",
    "            avg_cost += c / total_batch\n",
    "        # Visualizar logs por paso de época\n",
    "        if (epoch+1) % display_step == 0:\n",
    "            print(\"Epoch:\", '%04d' % (epoch+1), \"cost=\", \"{:.9f}\".format(avg_cost))\n",
    "\n",
    "    print(\"Optimization Finished!\")\n",
    "\n",
    "    # Test modelo\n",
    "    # Calcular la precisión\n",
    "    print(\"Accuracy:\", acc.eval({x: mnist.test.images, y: mnist.test.labels}))\n",
    "\n",
    "    print(\"Run the command line:\\n\" \\\n",
    "          \"--> tensorboard --logdir=/tmp/tensorflow_logs \" \\\n",
    "          \"\\nThen open http://0.0.0.0:6006/ into your web browser\")"
   ]
  },
  {
   "cell_type": "markdown",
   "metadata": {},
   "source": [
    "### Visualización de Pérdidas y Precisión\n",
    "<img src=\"../../resources/img/tensorboard_advanced_1.png\"/>"
   ]
  },
  {
   "cell_type": "markdown",
   "metadata": {},
   "source": [
    "### Visualización de gráficos de computación\n",
    "<img src=\"../../resources/img/tensorboard_advanced_2.png\"/>"
   ]
  },
  {
   "cell_type": "markdown",
   "metadata": {},
   "source": [
    "### Visualización de Pesos y Gradientes\n",
    "<img src=\"../../resources/img/tensorboard_advanced_3.png\"/>"
   ]
  },
  {
   "cell_type": "markdown",
   "metadata": {},
   "source": [
    "### Activaciones Visualización\n",
    "<img src=\"../../resources/img/tensorboard_advanced_4.png\"/>"
   ]
  },
  {
   "cell_type": "code",
   "execution_count": null,
   "metadata": {},
   "outputs": [],
   "source": []
  }
 ],
 "metadata": {
  "anaconda-cloud": {},
  "kernelspec": {
   "display_name": "Python 3",
   "language": "python",
   "name": "python3"
  },
  "language_info": {
   "codemirror_mode": {
    "name": "ipython",
    "version": 3
   },
   "file_extension": ".py",
   "mimetype": "text/x-python",
   "name": "python",
   "nbconvert_exporter": "python",
   "pygments_lexer": "ipython3",
   "version": "3.7.4"
  }
 },
 "nbformat": 4,
 "nbformat_minor": 1
}
