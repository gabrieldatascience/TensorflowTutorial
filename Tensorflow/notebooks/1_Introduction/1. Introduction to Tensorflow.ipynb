{
 "cells": [
  {
   "cell_type": "markdown",
   "metadata": {
    "run_control": {
     "frozen": false,
     "read_only": false
    },
    "slideshow": {
     "slide_type": "slide"
    }
   },
   "source": [
    "# Que es TensorFlow? "
   ]
  },
  {
   "cell_type": "markdown",
   "metadata": {
    "run_control": {
     "frozen": false,
     "read_only": false
    },
    "slideshow": {
     "slide_type": "fragment"
    }
   },
   "source": [
    "Librería de software para el cálculo numérico utilizando gráficos de flujo de datos"
   ]
  },
  {
   "cell_type": "markdown",
   "metadata": {
    "run_control": {
     "frozen": false,
     "read_only": false
    },
    "slideshow": {
     "slide_type": "fragment"
    }
   },
   "source": [
    "<center><img src=\"../../resources/img/tensorflow_system.png\" alt=\"System architecture of TensorFlow\" style=\"width:500px;\">\n",
    "</center>"
   ]
  },
  {
   "cell_type": "markdown",
   "metadata": {
    "run_control": {
     "frozen": false,
     "read_only": false
    },
    "slideshow": {
     "slide_type": "slide"
    }
   },
   "source": [
    "# TensorFlow Componentes"
   ]
  },
  {
   "cell_type": "markdown",
   "metadata": {
    "run_control": {
     "frozen": false,
     "read_only": false
    },
    "slideshow": {
     "slide_type": "fragment"
    }
   },
   "source": [
    "Los cálculos se describen a través de **Dataflow graphs**"
   ]
  },
  {
   "cell_type": "markdown",
   "metadata": {
    "run_control": {
     "frozen": false,
     "read_only": false
    },
    "slideshow": {
     "slide_type": "fragment"
    }
   },
   "source": [
    "Gráficos de flujo de datos ejecutados en **TensorFlow sessions**"
   ]
  },
  {
   "cell_type": "markdown",
   "metadata": {
    "run_control": {
     "frozen": false,
     "read_only": false
    },
    "slideshow": {
     "slide_type": "slide"
    }
   },
   "source": [
    "## TensorFlow DataFlow Graphs "
   ]
  },
  {
   "cell_type": "markdown",
   "metadata": {
    "run_control": {
     "frozen": false,
     "read_only": false
    },
    "slideshow": {
     "slide_type": "fragment"
    }
   },
   "source": [
    "<center><img src=\"../../resources/img/tensorgraph.png\" alt=\"Example of a DataFlow Graph in TensorFlow\" style=\"width:500px;\">\n",
    "</center>"
   ]
  },
  {
   "cell_type": "markdown",
   "metadata": {
    "run_control": {
     "frozen": false,
     "read_only": false
    },
    "slideshow": {
     "slide_type": "subslide"
    }
   },
   "source": [
    "###  Nodos"
   ]
  },
  {
   "cell_type": "markdown",
   "metadata": {
    "run_control": {
     "frozen": false,
     "read_only": false
    },
    "slideshow": {
     "slide_type": "fragment"
    }
   },
   "source": [
    "- Nodos are operaciones"
   ]
  },
  {
   "cell_type": "markdown",
   "metadata": {
    "run_control": {
     "frozen": false,
     "read_only": false
    },
    "slideshow": {
     "slide_type": "fragment"
    }
   },
   "source": [
    "- Operaciones de bajo nivel: suma, mult, matriz-multiplicador"
   ]
  },
  {
   "cell_type": "markdown",
   "metadata": {
    "run_control": {
     "frozen": false,
     "read_only": false
    },
    "slideshow": {
     "slide_type": "fragment"
    }
   },
   "source": [
    "- Operaciones de alto nivel\n",
    "    - Composición de operaciones de bajo nivel: L1 Pérdida, L2 Pérdida, Error"
   ]
  },
  {
   "cell_type": "markdown",
   "metadata": {
    "run_control": {
     "frozen": false,
     "read_only": false
    },
    "slideshow": {
     "slide_type": "subslide"
    }
   },
   "source": [
    "### Edges "
   ]
  },
  {
   "cell_type": "markdown",
   "metadata": {
    "run_control": {
     "frozen": false,
     "read_only": false
    },
    "slideshow": {
     "slide_type": "fragment"
    }
   },
   "source": [
    "- Los bordes del gráfico son los datos transmitidos entre operaciones"
   ]
  },
  {
   "cell_type": "markdown",
   "metadata": {
    "run_control": {
     "frozen": false,
     "read_only": false
    },
    "slideshow": {
     "slide_type": "fragment"
    }
   },
   "source": [
    "- Los datos se representan como matrices n-dimensionales llamadas **Tensors**"
   ]
  },
  {
   "cell_type": "markdown",
   "metadata": {
    "run_control": {
     "frozen": false,
     "read_only": false
    },
    "slideshow": {
     "slide_type": "fragment"
    }
   },
   "source": [
    "- ejemplo. 3 dimensiones tensor\n",
    "```            \n",
    "            [[[2,1],[2,4]],\n",
    "            [[2,4],[1,2]],\n",
    "            [[4,6],[4,2]]]  \n",
    "```\n"
   ]
  },
  {
   "cell_type": "markdown",
   "metadata": {
    "run_control": {
     "frozen": false,
     "read_only": false
    },
    "slideshow": {
     "slide_type": "skip"
    }
   },
   "source": [
    "Los datos pueden tener cualquier tipo de datos, pero la mayoría de los datos son numéricos"
   ]
  },
  {
   "cell_type": "markdown",
   "metadata": {
    "run_control": {
     "frozen": true,
     "read_only": true
    },
    "slideshow": {
     "slide_type": "slide"
    }
   },
   "source": [
    "## TensorFlow Sessions"
   ]
  },
  {
   "cell_type": "markdown",
   "metadata": {
    "run_control": {
     "frozen": false,
     "read_only": false
    },
    "slideshow": {
     "slide_type": "fragment"
    }
   },
   "source": [
    "- Una sesión (**tf.session**) proporciona acceso a los dispositivos de la máquina local. (CPU, GPU)"
   ]
  },
  {
   "cell_type": "markdown",
   "metadata": {
    "run_control": {
     "frozen": false,
     "read_only": false
    },
    "slideshow": {
     "slide_type": "fragment"
    }
   },
   "source": [
    "- Encapsula la operación de una gráfica computacional"
   ]
  },
  {
   "cell_type": "markdown",
   "metadata": {
    "run_control": {
     "frozen": false,
     "read_only": false
    },
    "slideshow": {
     "slide_type": "fragment"
    }
   },
   "source": [
    "- Gestiona el almacenamiento en caché de variables"
   ]
  },
  {
   "cell_type": "markdown",
   "metadata": {
    "heading_collapsed": true,
    "run_control": {
     "frozen": false,
     "read_only": false
    },
    "slideshow": {
     "slide_type": "skip"
    }
   },
   "source": [
    "# TensorFlow's Hello World "
   ]
  },
  {
   "cell_type": "markdown",
   "metadata": {
    "heading_collapsed": true,
    "hidden": true,
    "run_control": {
     "frozen": false,
     "read_only": false
    },
    "slideshow": {
     "slide_type": "skip"
    }
   },
   "source": [
    "## Task"
   ]
  },
  {
   "cell_type": "markdown",
   "metadata": {
    "hidden": true,
    "run_control": {
     "frozen": false,
     "read_only": false
    },
    "slideshow": {
     "slide_type": "skip"
    }
   },
   "source": [
    "Cree un gráfico TensorFlow que devuelva 'hola mundo'."
   ]
  },
  {
   "cell_type": "code",
   "execution_count": null,
   "metadata": {
    "hidden": true,
    "run_control": {
     "frozen": false,
     "read_only": false
    },
    "slideshow": {
     "slide_type": "skip"
    }
   },
   "outputs": [],
   "source": [
    "# Importar tensorflow \n",
    "import tensorflow as tf\n",
    "\n",
    "# Cree un gráfico con un nodo que devuelva 'hola mundo'.\n",
    "# El valor pasado al constructor de tf.constant representa la salida de la Constante op.\n",
    "hello = tf.constant('hello world')\n",
    "\n",
    "# hello es un nodo de operación constante que no recibe ninguna entrada y devuelve un Tensor que contiene el valor 'hello world'.\n",
    "# Hemos construido el TensorGraph\n",
    "\n",
    "# Necesitamos ejecutarlo en una sesión\n",
    "# Iniciar una sesión de tf\n",
    "sess = tf.Session()\n",
    "\n",
    "# Ejecute el gráfico en la sesión\n",
    "\n",
    "result = sess.run(hello)\n",
    "\n",
    "print(result)"
   ]
  },
  {
   "cell_type": "markdown",
   "metadata": {
    "run_control": {
     "frozen": false,
     "read_only": false
    },
    "slideshow": {
     "slide_type": "slide"
    }
   },
   "source": [
    "# Operaciones Basicas"
   ]
  },
  {
   "cell_type": "markdown",
   "metadata": {
    "run_control": {
     "frozen": false,
     "read_only": false
    },
    "slideshow": {
     "slide_type": "skip"
    }
   },
   "source": [
    "## Tarea 1"
   ]
  },
  {
   "cell_type": "markdown",
   "metadata": {
    "run_control": {
     "frozen": false,
     "read_only": false
    },
    "slideshow": {
     "slide_type": "fragment"
    }
   },
   "source": [
    "1. Un gráfico TensorFlow para multiplicar dos constantes"
   ]
  },
  {
   "cell_type": "markdown",
   "metadata": {
    "run_control": {
     "frozen": false,
     "read_only": false
    },
    "slideshow": {
     "slide_type": "skip"
    }
   },
   "source": [
    "Los tensores en TensorFlow cuando se materializan durante una sesión mantienen matrices n-dimensionales. Los tensores especiales son:\n",
    "- tf.constant\n",
    "- tf.Variable\n",
    "- tf.placeholder\n",
    "- tf.SparseTensor\n",
    "\n",
    "Veremos cada uno de estos tensores especiales a medida que avancemos en este módulo de TensorFlow. "
   ]
  },
  {
   "cell_type": "markdown",
   "metadata": {
    "run_control": {
     "frozen": false,
     "read_only": false
    },
    "slideshow": {
     "slide_type": "skip"
    }
   },
   "source": [
    "Una constante es un tipo especial de Tensor que, como su nombre indica, mantiene un Tensor constante. La constante puede ser un valor escalar, como en el siguiente ejemplo, o una matriz n-dimensional."
   ]
  },
  {
   "cell_type": "code",
   "execution_count": null,
   "metadata": {
    "run_control": {
     "frozen": true,
     "read_only": true
    },
    "slideshow": {
     "slide_type": "skip"
    }
   },
   "outputs": [],
   "source": [
    "# Operaciones básicas constantes\n",
    "# El valor pasado al constructor representa la salida de la operación constante.\n",
    "a = tf.constant(2)\n",
    "b = tf.constant(3)\n",
    "\n",
    "# Inicie el gráfico predeterminado.\n",
    "with tf.Session() as sess:\n",
    "    print(\"a: %i\" % sess.run(a), \"b: %i\" % sess.run(b))\n",
    "    print(\"Multiplication with constants: %i\" % sess.run(a*b))"
   ]
  },
  {
   "cell_type": "code",
   "execution_count": null,
   "metadata": {
    "run_control": {
     "frozen": false,
     "read_only": false
    },
    "slideshow": {
     "slide_type": "fragment"
    }
   },
   "outputs": [],
   "source": [
    "a = tf.constant(2)\n",
    "b = tf.constant(3) \n",
    "\n",
    "with tf.Session() as sess:\n",
    "    print(\"a: %i\" % sess.run(a), \"b: %i\" % sess.run(b))\n",
    "    print(\"Multiplication with constants: %i\" % sess.run(a*b))"
   ]
  },
  {
   "cell_type": "markdown",
   "metadata": {
    "run_control": {
     "frozen": false,
     "read_only": false
    },
    "slideshow": {
     "slide_type": "subslide"
    }
   },
   "source": [
    "Las operaciones de tensor de matriz y de orden superior funcionan de forma similar."
   ]
  },
  {
   "cell_type": "markdown",
   "metadata": {
    "run_control": {
     "frozen": false,
     "read_only": false
    },
    "slideshow": {
     "slide_type": "skip"
    }
   },
   "source": [
    "Los tensores de orden superior se inicializan de una manera similar a la de los tensores de orden superior. \n",
    "Se puede acceder a un Tensor y cortarlo exactamente como a una matriz numérica.\n",
    "    \n",
    "    a = tf.constant([[[2,1],[2,4]],\n",
    "            [[2,4],[1,2]],\n",
    "            [[4,6],[4,2]]] )\n",
    "    first_column = a[:,:,0]\n",
    "    \n",
    "    \n",
    "`first_column`, en el momento de la ejecución retendría al Tensor:\n",
    "    \n",
    "    [[2 2]\n",
    "     [2 1]\n",
    "     [4 4]]\n",
    "    "
   ]
  },
  {
   "cell_type": "code",
   "execution_count": null,
   "metadata": {
    "run_control": {
     "frozen": true,
     "read_only": true
    },
    "slideshow": {
     "slide_type": "skip"
    }
   },
   "outputs": [],
   "source": [
    "# Las matrices constantes se inicializan de la misma manera que los escalares : usando tf.constant\n",
    "matrix1 = tf.constant([3., 4.],shape=[1,2]) # 1 x 2 matrix\n",
    "matrix2 = tf.constant([[2.],[1.]],shape=[2,1]) # 2 x 1 matrix\n",
    "\n",
    "# Para la multiplicación escalar, usamos el operador *, pero también podríamos haber usado la función tf.multiply incorporada de tf.\n",
    "# Para la multiplicación de matrices, tenemos que usar la función tf.matmul\n",
    "\n",
    "product = tf.matmul(matrix1, matrix2) # Asegúrate de que el orden de multiplicación sea el correcto\n",
    "# producto de = 3*2 + 4*1\n",
    "\n",
    "with tf.Session() as sess:\n",
    "    result = sess.run(product)\n",
    "    print(result)"
   ]
  },
  {
   "cell_type": "code",
   "execution_count": null,
   "metadata": {
    "run_control": {
     "frozen": false,
     "read_only": false
    },
    "slideshow": {
     "slide_type": "fragment"
    }
   },
   "outputs": [],
   "source": [
    "matrix1 = tf.constant([[3., 4.]]) # 1 x 2 matrix\n",
    "matrix2 = tf.constant([[2.],[1.]]) # 2 x 1 matrix\n",
    "\n",
    "product = tf.matmul(matrix1, matrix2) \n",
    "\n",
    "with tf.Session() as sess:\n",
    "    result = sess.run(product)\n",
    "    print(result)"
   ]
  },
  {
   "cell_type": "markdown",
   "metadata": {
    "run_control": {
     "frozen": false,
     "read_only": false
    },
    "slideshow": {
     "slide_type": "slide"
    }
   },
   "source": [
    "## Tarea 2"
   ]
  },
  {
   "cell_type": "markdown",
   "metadata": {
    "run_control": {
     "frozen": false,
     "read_only": false
    },
    "slideshow": {
     "slide_type": "fragment"
    }
   },
   "source": [
    " Ejecución de un gráfico TensorFlow que puede tomar variables de entrada"
   ]
  },
  {
   "cell_type": "markdown",
   "metadata": {
    "run_control": {
     "frozen": false,
     "read_only": false
    },
    "slideshow": {
     "slide_type": "skip"
    }
   },
   "source": [
    "En el ejemplo anterior, predefinimos los tensores que multiplicamos y los codificamos en nuestro gráfico. En este ejemplo, queremos multiplicar dos Tensores que definimos durante una ejecución de nuestra sesión. TensorFlow pone a disposición el constructo `tf.placeholder` que facilita tal comportamiento.\n",
    "\n",
    "Es altamente recomendado por los desarrolladores de TensorFlow usar un nodo `tf.placeholder` cuando se desea reemplazar cualquier Tensor, incluyendo variables y constantes, con datos alimentados externamente.\n",
    "Para citar a los dosumentos:\n",
    ">Un placeholder existe únicamente para servir como objetivo de los feeds. No se inicializa y no contiene datos. Un placeholder genera un error si se ejecuta sin un feed, para que no se olvide de alimentarlo."
   ]
  },
  {
   "cell_type": "code",
   "execution_count": null,
   "metadata": {
    "run_control": {
     "frozen": false,
     "read_only": false
    },
    "slideshow": {
     "slide_type": "skip"
    }
   },
   "outputs": [],
   "source": [
    "logs_path = '../../logs/lesson1'"
   ]
  },
  {
   "cell_type": "code",
   "execution_count": null,
   "metadata": {
    "run_control": {
     "frozen": true,
     "read_only": true
    },
    "slideshow": {
     "slide_type": "skip"
    }
   },
   "outputs": [],
   "source": [
    "# Operaciones básicas con variables como entrada de gráficos\n",
    "# El valor pasado al constructor representa el tipo de salida de la Variable op.\n",
    "# (definido como entrada al ejecutar la sesión)\n",
    "\n",
    "# Entrada de gráficos\n",
    "a = tf.placeholder(tf.int16, name = 'variableA')\n",
    "b = tf.placeholder(tf.int16, name = 'variableB')\n",
    "\n",
    "# Define las operaciones\n",
    "with tf.name_scope('multiplication'):\n",
    "    mul = tf.multiply(a, b)\n",
    "\n",
    "# Inicie el gráfico predeterminado en una sesión.\n",
    "with tf.Session() as sess:\n",
    "    # Ejecutar la operación con entrada variable modificando los valores de entrada\n",
    "    # se alimenta al gráfico usando el **feed_dict**\n",
    "    summary_writer = tf.summary.FileWriter(logs_path, graph=tf.get_default_graph())\n",
    "    print((\"Multiplication with variables: %i\" % sess.run(mul, feed_dict={a: 2, b: 3})))"
   ]
  },
  {
   "cell_type": "code",
   "execution_count": null,
   "metadata": {
    "run_control": {
     "frozen": false,
     "read_only": false
    },
    "slideshow": {
     "slide_type": "fragment"
    }
   },
   "outputs": [],
   "source": [
    "a = tf.placeholder(tf.int16, name = 'variableA')\n",
    "b = tf.placeholder(tf.int16, name = 'variableB')\n",
    "\n",
    "with tf.name_scope('multiplication'):\n",
    "    mul = tf.multiply(a, b)\n",
    "\n",
    "with tf.Session() as sess:\n",
    "    summary_writer = tf.summary.FileWriter(logs_path, graph=tf.get_default_graph())\n",
    "    print((\"Multiplication with variables: %i\" % sess.run(mul, feed_dict={a: 2, b: 3})))"
   ]
  },
  {
   "cell_type": "markdown",
   "metadata": {
    "slideshow": {
     "slide_type": "slide"
    }
   },
   "source": [
    "Ahora ejecutar ```tensorboard --logdir /absolute/path/to/logs_path``` en la consola\n",
    "\n",
    "y pasar a: http://localhost:6006"
   ]
  },
  {
   "cell_type": "markdown",
   "metadata": {
    "run_control": {
     "frozen": false,
     "read_only": false
    },
    "slideshow": {
     "slide_type": "fragment"
    }
   },
   "source": [
    "<center><img src=\"../../resources/img/tensorboard_variables.png\" alt=\"Gráfico TensorBoard de multiplicación variable\" style=\"width:300px;\">\n",
    "</center>"
   ]
  },
  {
   "cell_type": "code",
   "execution_count": null,
   "metadata": {},
   "outputs": [],
   "source": []
  }
 ],
 "metadata": {
  "celltoolbar": "Slideshow",
  "kernelspec": {
   "display_name": "Python 3",
   "language": "python",
   "name": "python3"
  },
  "language_info": {
   "codemirror_mode": {
    "name": "ipython",
    "version": 3
   },
   "file_extension": ".py",
   "mimetype": "text/x-python",
   "name": "python",
   "nbconvert_exporter": "python",
   "pygments_lexer": "ipython3",
   "version": "3.7.4"
  },
  "toc": {
   "colors": {
    "hover_highlight": "#DAA520",
    "running_highlight": "#FF0000",
    "selected_highlight": "#FFD700"
   },
   "moveMenuLeft": true,
   "nav_menu": {
    "height": "84px",
    "width": "252px"
   },
   "navigate_menu": true,
   "number_sections": true,
   "sideBar": true,
   "threshold": 4,
   "toc_cell": false,
   "toc_section_display": "none",
   "toc_window_display": false
  },
  "varInspector": {
   "cols": {
    "lenName": 16,
    "lenType": 16,
    "lenVar": 40
   },
   "kernels_config": {
    "python": {
     "delete_cmd_postfix": "",
     "delete_cmd_prefix": "del ",
     "library": "var_list.py",
     "varRefreshCmd": "print(var_dic_list())"
    },
    "r": {
     "delete_cmd_postfix": ") ",
     "delete_cmd_prefix": "rm(",
     "library": "var_list.r",
     "varRefreshCmd": "cat(var_dic_list()) "
    }
   },
   "types_to_exclude": [
    "module",
    "function",
    "builtin_function_or_method",
    "instance",
    "_Feature"
   ],
   "window_display": false
  }
 },
 "nbformat": 4,
 "nbformat_minor": 2
}
