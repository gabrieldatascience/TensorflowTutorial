{
 "cells": [
  {
   "cell_type": "markdown",
   "metadata": {},
   "source": [
    "# Machine Learning\n",
    "\n",
    "Antes de empezar a navegar por los ejemplos, puede ser útil que se familiarice con el aprendizaje automático, ya que TensorFlow se utiliza principalmente para tareas de aprendizaje automático (especialmente redes neuronales). A continuación encontrará una lista de enlaces útiles que le pueden proporcionar los conocimientos básicos necesarios para este TensorFlow Tutorial.\n",
    "\n",
    "## Aprendizaje automático\n",
    "\n",
    "- Introducción a la teoría del aprendizaje automático y sus aplicaciones: Un tutorial visual con ejemplos](https://www.toptal.com/machine-learning/machine-learning-theory-an-introductory-primer)\n",
    "- [A Gentle Guide to Machine Learning] (https://blog.monkeylearn.com/a-gentle-guide-to-machine-learning/)\n",
    "- A Visual Introduction to Machine Learning] (http://www.r2d3.us/visual-intro-to-machine-learning-part-1/)\n",
    "- Introducción al aprendizaje automático] (http://alex.smola.org/drafts/thebook.pdf)\n",
    "\n",
    "## Aprendizaje profundo y redes neuronales\n",
    "\n",
    "- Una introducción a las redes neuronales] (http://www.cs.stir.ac.uk/~lss/NNIntro/InvSlides.html)\n",
    "- Una Introducción al Reconocimiento de Imágenes con Aprendizaje Profundo] (https://medium.com/@ageitgey/machine-learning-is-funt-part-3-deep-deep-learning-and-convolutional-neural-networks-f40359318721)\n",
    "- [Redes neuronales y aprendizaje profundo] (http://neuralnetworksanddeeplearning.com/index.html)\n"
   ]
  },
  {
   "cell_type": "code",
   "execution_count": null,
   "metadata": {},
   "outputs": [],
   "source": []
  }
 ],
 "metadata": {
  "anaconda-cloud": {},
  "kernelspec": {
   "display_name": "Python 3",
   "language": "python",
   "name": "python3"
  },
  "language_info": {
   "codemirror_mode": {
    "name": "ipython",
    "version": 3
   },
   "file_extension": ".py",
   "mimetype": "text/x-python",
   "name": "python",
   "nbconvert_exporter": "python",
   "pygments_lexer": "ipython3",
   "version": "3.7.4"
  }
 },
 "nbformat": 4,
 "nbformat_minor": 1
}
